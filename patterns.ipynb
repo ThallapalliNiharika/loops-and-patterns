{
 "cells": [
  {
   "cell_type": "code",
   "execution_count": 1,
   "id": "a2f7ed46",
   "metadata": {},
   "outputs": [
    {
     "name": "stdout",
     "output_type": "stream",
     "text": [
      "Enter the no. 2\n",
      "Enter symbol or name *\n",
      "* \n",
      "* * \n"
     ]
    }
   ],
   "source": [
    "i=int(input(\"Enter the no. \"))\n",
    "s=str(input(\"Enter symbol or name \"))\n",
    "for i in range(i):\n",
    "    for j in range(i+1):\n",
    "        print(s,end=\" \")\n",
    "    print()"
   ]
  },
  {
   "cell_type": "code",
   "execution_count": 2,
   "id": "8f71634e",
   "metadata": {},
   "outputs": [
    {
     "name": "stdout",
     "output_type": "stream",
     "text": [
      "enter the number:3\n",
      "enter the text:*\n",
      "*\n",
      " \n",
      "**\n",
      " \n",
      "***\n",
      " \n"
     ]
    }
   ],
   "source": [
    "a=int(input('enter the number:'))\n",
    "b=input('enter the text:')\n",
    "for i in range(a):\n",
    "    print((i+1)*b)\n",
    "    print(end=\" \\n\")"
   ]
  },
  {
   "cell_type": "code",
   "execution_count": 3,
   "id": "8b8f041c",
   "metadata": {},
   "outputs": [
    {
     "name": "stdout",
     "output_type": "stream",
     "text": [
      "enter the number:2\n",
      "enter the text:*\n",
      "* \n",
      "** \n"
     ]
    }
   ],
   "source": [
    "a=int(input('enter the number:'))\n",
    "b=input('enter the text:')\n",
    "for i in range(a):\n",
    "    print((i+1)*b, end = \" \")\n",
    "    print()"
   ]
  },
  {
   "cell_type": "code",
   "execution_count": 4,
   "id": "4bb8e8e2",
   "metadata": {},
   "outputs": [
    {
     "name": "stdout",
     "output_type": "stream",
     "text": [
      "Enter n3\n",
      "Enter the text*\n",
      "* \n",
      "* * \n",
      "* * * \n"
     ]
    }
   ],
   "source": [
    "n = int(input(\"Enter n\"))\n",
    "txt = input(\"Enter the text\")\n",
    "for i in range(n):\n",
    "    for j in range(i+1):\n",
    "        print(txt,end = \" \")\n",
    "    print()"
   ]
  },
  {
   "cell_type": "code",
   "execution_count": null,
   "id": "661e648b",
   "metadata": {},
   "outputs": [],
   "source": []
  }
 ],
 "metadata": {
  "kernelspec": {
   "display_name": "Python 3 (ipykernel)",
   "language": "python",
   "name": "python3"
  },
  "language_info": {
   "codemirror_mode": {
    "name": "ipython",
    "version": 3
   },
   "file_extension": ".py",
   "mimetype": "text/x-python",
   "name": "python",
   "nbconvert_exporter": "python",
   "pygments_lexer": "ipython3",
   "version": "3.10.1"
  }
 },
 "nbformat": 4,
 "nbformat_minor": 5
}
