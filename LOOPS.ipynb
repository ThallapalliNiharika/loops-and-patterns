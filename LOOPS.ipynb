{
 "cells": [
  {
   "cell_type": "code",
   "execution_count": 1,
   "id": "3cc34847",
   "metadata": {},
   "outputs": [],
   "source": [
    "t = {3, 4, 5, \"Niha\",6,7100}"
   ]
  },
  {
   "cell_type": "code",
   "execution_count": 4,
   "id": "cf92ad1a",
   "metadata": {},
   "outputs": [
    {
     "name": "stdout",
     "output_type": "stream",
     "text": [
      "{3, 4, 5, 6, 7100, 'Niha'}\n",
      "{3, 4, 5, 6, 7100, 'Niha'}\n",
      "{3, 4, 5, 6, 7100, 'Niha'}\n",
      "{3, 4, 5, 6, 7100, 'Niha'}\n",
      "{3, 4, 5, 6, 7100, 'Niha'}\n",
      "{3, 4, 5, 6, 7100, 'Niha'}\n"
     ]
    }
   ],
   "source": [
    "for i in t:\n",
    "    print(t)"
   ]
  },
  {
   "cell_type": "code",
   "execution_count": 3,
   "id": "8fc08d8c",
   "metadata": {},
   "outputs": [],
   "source": [
    "s = {3, 4, 5, \"Niha\",6,7100}"
   ]
  },
  {
   "cell_type": "code",
   "execution_count": 5,
   "id": "2cc08fa2",
   "metadata": {},
   "outputs": [
    {
     "name": "stdout",
     "output_type": "stream",
     "text": [
      "3\n",
      "4\n",
      "5\n",
      "6\n",
      "7100\n",
      "Niha\n"
     ]
    }
   ],
   "source": [
    "for i in s:\n",
    "    print(i)"
   ]
  },
  {
   "cell_type": "code",
   "execution_count": 6,
   "id": "63017f49",
   "metadata": {},
   "outputs": [],
   "source": [
    "d = { \"name\":\"Niharika\", \"Year\":\"2nd Year\",\"Sub\":\"Python\"}"
   ]
  },
  {
   "cell_type": "code",
   "execution_count": 7,
   "id": "a7f8ffb8",
   "metadata": {},
   "outputs": [
    {
     "data": {
      "text/plain": [
       "'Python'"
      ]
     },
     "execution_count": 7,
     "metadata": {},
     "output_type": "execute_result"
    }
   ],
   "source": [
    "d[\"Sub\"]"
   ]
  },
  {
   "cell_type": "code",
   "execution_count": 9,
   "id": "b64bef96",
   "metadata": {},
   "outputs": [
    {
     "name": "stdout",
     "output_type": "stream",
     "text": [
      "name : Niharika\n",
      "Year : 2nd Year\n",
      "Sub : Python\n"
     ]
    }
   ],
   "source": [
    "for i in d:\n",
    "    print(i, \":\", d[i])"
   ]
  },
  {
   "cell_type": "code",
   "execution_count": 10,
   "id": "9c08abcd",
   "metadata": {},
   "outputs": [],
   "source": [
    "l = {3, 4, 5, \"Niha\",6,7100}"
   ]
  },
  {
   "cell_type": "code",
   "execution_count": 11,
   "id": "9f7c7a78",
   "metadata": {},
   "outputs": [
    {
     "data": {
      "text/plain": [
       "{3, 4, 5, 6, 7100, 'Niha'}"
      ]
     },
     "execution_count": 11,
     "metadata": {},
     "output_type": "execute_result"
    }
   ],
   "source": [
    "l"
   ]
  },
  {
   "cell_type": "code",
   "execution_count": 14,
   "id": "3a3b31cd",
   "metadata": {},
   "outputs": [
    {
     "name": "stdout",
     "output_type": "stream",
     "text": [
      "3\n",
      "4\n",
      "5\n",
      "6\n",
      "7100\n"
     ]
    }
   ],
   "source": [
    "for i in l:\n",
    "    if i == 'Niha':\n",
    "        break;\n",
    "    print(i)\n",
    "else:\n",
    "        print(\"Something else\");"
   ]
  },
  {
   "cell_type": "code",
   "execution_count": 15,
   "id": "a275698d",
   "metadata": {},
   "outputs": [
    {
     "name": "stdout",
     "output_type": "stream",
     "text": [
      "3\n",
      "4\n",
      "5\n",
      "6\n",
      "7100\n",
      "Niha\n",
      "Something Else\n"
     ]
    }
   ],
   "source": [
    "for i in l:\n",
    "    print(i)\n",
    "else:\n",
    "    print(\"Something Else\")"
   ]
  },
  {
   "cell_type": "code",
   "execution_count": 20,
   "id": "e99930a0",
   "metadata": {},
   "outputs": [
    {
     "name": "stdout",
     "output_type": "stream",
     "text": [
      "Something else\n",
      "Something else\n",
      "Something else\n",
      "Something else\n",
      "Something else\n",
      "Niha\n"
     ]
    }
   ],
   "source": [
    "for i in l:\n",
    "    if i == \"Niha\":\n",
    "        pass\n",
    "        print(i)\n",
    "    else:\n",
    "        print(\"Something else\")"
   ]
  },
  {
   "cell_type": "code",
   "execution_count": 22,
   "id": "d8d0d0ef",
   "metadata": {
    "scrolled": true
   },
   "outputs": [
    {
     "name": "stdout",
     "output_type": "stream",
     "text": [
      "3\n",
      "4\n",
      "5\n",
      "6\n",
      "7100\n",
      "Something Else\n"
     ]
    }
   ],
   "source": [
    "for i in l:\n",
    "    if i == \"Niha\":\n",
    "        pass\n",
    "    else:\n",
    "        print(i)\n",
    "else:\n",
    "    print(\"Something Else\")"
   ]
  },
  {
   "cell_type": "code",
   "execution_count": 23,
   "id": "da7c4d45",
   "metadata": {},
   "outputs": [
    {
     "data": {
      "text/plain": [
       "{3, 4, 5, 6, 7100, 'Niha'}"
      ]
     },
     "execution_count": 23,
     "metadata": {},
     "output_type": "execute_result"
    }
   ],
   "source": [
    "l"
   ]
  },
  {
   "cell_type": "code",
   "execution_count": 28,
   "id": "869d198d",
   "metadata": {},
   "outputs": [
    {
     "name": "stdout",
     "output_type": "stream",
     "text": [
      "4\n",
      "5\n",
      "6\n",
      "7\n",
      "7101\n",
      "Niha1\n"
     ]
    }
   ],
   "source": [
    "for i in l:\n",
    "    if(i == \"Niha\"):\n",
    "        print(i + \"1\")\n",
    "    else:\n",
    "        i = i + 1\n",
    "        print(i)"
   ]
  },
  {
   "cell_type": "code",
   "execution_count": 29,
   "id": "fc6b8063",
   "metadata": {},
   "outputs": [
    {
     "data": {
      "text/plain": [
       "range(0, 9)"
      ]
     },
     "execution_count": 29,
     "metadata": {},
     "output_type": "execute_result"
    }
   ],
   "source": [
    "range(9)"
   ]
  },
  {
   "cell_type": "code",
   "execution_count": 30,
   "id": "a3ace066",
   "metadata": {},
   "outputs": [
    {
     "data": {
      "text/plain": [
       "[0, 1, 2, 3, 4, 5, 6, 7, 8]"
      ]
     },
     "execution_count": 30,
     "metadata": {},
     "output_type": "execute_result"
    }
   ],
   "source": [
    "list(range(0,9))"
   ]
  },
  {
   "cell_type": "code",
   "execution_count": 31,
   "id": "e3c30bee",
   "metadata": {},
   "outputs": [
    {
     "data": {
      "text/plain": [
       "[-8, -7, -6, -5, -4, -3, -2, -1, 0, 1, 2, 3, 4, 5, 6, 7, 8]"
      ]
     },
     "execution_count": 31,
     "metadata": {},
     "output_type": "execute_result"
    }
   ],
   "source": [
    "list(range(-8,9))"
   ]
  },
  {
   "cell_type": "code",
   "execution_count": 32,
   "id": "4491c089",
   "metadata": {},
   "outputs": [
    {
     "data": {
      "text/plain": [
       "[]"
      ]
     },
     "execution_count": 32,
     "metadata": {},
     "output_type": "execute_result"
    }
   ],
   "source": [
    "list(range(0,9,-1))"
   ]
  },
  {
   "cell_type": "code",
   "execution_count": 33,
   "id": "13352a41",
   "metadata": {},
   "outputs": [
    {
     "data": {
      "text/plain": [
       "[9, 8, 7, 6, 5, 4, 3, 2, 1]"
      ]
     },
     "execution_count": 33,
     "metadata": {},
     "output_type": "execute_result"
    }
   ],
   "source": [
    "list(range(9,0,-1))"
   ]
  },
  {
   "cell_type": "code",
   "execution_count": 34,
   "id": "ffb4a8c6",
   "metadata": {},
   "outputs": [
    {
     "data": {
      "text/plain": [
       "range(0, 6)"
      ]
     },
     "execution_count": 34,
     "metadata": {},
     "output_type": "execute_result"
    }
   ],
   "source": [
    "range(len(l))"
   ]
  },
  {
   "cell_type": "code",
   "execution_count": 35,
   "id": "78aa1a12",
   "metadata": {},
   "outputs": [
    {
     "data": {
      "text/plain": [
       "6"
      ]
     },
     "execution_count": 35,
     "metadata": {},
     "output_type": "execute_result"
    }
   ],
   "source": [
    "len(l)"
   ]
  },
  {
   "cell_type": "code",
   "execution_count": 36,
   "id": "44da3e57",
   "metadata": {},
   "outputs": [
    {
     "data": {
      "text/plain": [
       "[0, 1, 2, 3, 4, 5]"
      ]
     },
     "execution_count": 36,
     "metadata": {},
     "output_type": "execute_result"
    }
   ],
   "source": [
    "list(range(len(l)))"
   ]
  },
  {
   "cell_type": "code",
   "execution_count": 37,
   "id": "5a64cf4d",
   "metadata": {},
   "outputs": [
    {
     "name": "stdout",
     "output_type": "stream",
     "text": [
      "0\n",
      "1\n",
      "2\n",
      "3\n",
      "4\n",
      "5\n"
     ]
    }
   ],
   "source": [
    "for i in range (len(l)):\n",
    "    print(i)"
   ]
  },
  {
   "cell_type": "code",
   "execution_count": 26,
   "id": "2e889974",
   "metadata": {},
   "outputs": [],
   "source": [
    "l = [3, 4, 5, \"Niha\",6,7100]"
   ]
  },
  {
   "cell_type": "code",
   "execution_count": 27,
   "id": "88900ed2",
   "metadata": {},
   "outputs": [
    {
     "data": {
      "text/plain": [
       "[3, 4, 5, 'Niha', 6, 7100]"
      ]
     },
     "execution_count": 27,
     "metadata": {},
     "output_type": "execute_result"
    }
   ],
   "source": [
    "l"
   ]
  },
  {
   "cell_type": "code",
   "execution_count": 30,
   "id": "f71b0ac2",
   "metadata": {},
   "outputs": [],
   "source": [
    "l1 = []\n",
    "for i in l:\n",
    "    if type(i)==int:\n",
    "        l1.append(i)"
   ]
  },
  {
   "cell_type": "code",
   "execution_count": 31,
   "id": "1e02316a",
   "metadata": {},
   "outputs": [
    {
     "data": {
      "text/plain": [
       "[3, 4, 5, 6, 7100]"
      ]
     },
     "execution_count": 31,
     "metadata": {},
     "output_type": "execute_result"
    }
   ],
   "source": [
    "l1"
   ]
  },
  {
   "cell_type": "code",
   "execution_count": null,
   "id": "ad61aa39",
   "metadata": {},
   "outputs": [],
   "source": [
    "#n = input(\"Enter the value of n\")\n",
    "n = 3\n",
    "for i in range[1,n+1]:\n",
    "    for j in range[1,i+1]:\n",
    "        print(\"*\",end=\"\")\n",
    "    print()"
   ]
  },
  {
   "cell_type": "code",
   "execution_count": null,
   "id": "7900d9ff",
   "metadata": {},
   "outputs": [],
   "source": []
  }
 ],
 "metadata": {
  "kernelspec": {
   "display_name": "Python 3 (ipykernel)",
   "language": "python",
   "name": "python3"
  },
  "language_info": {
   "codemirror_mode": {
    "name": "ipython",
    "version": 3
   },
   "file_extension": ".py",
   "mimetype": "text/x-python",
   "name": "python",
   "nbconvert_exporter": "python",
   "pygments_lexer": "ipython3",
   "version": "3.10.1"
  }
 },
 "nbformat": 4,
 "nbformat_minor": 5
}
